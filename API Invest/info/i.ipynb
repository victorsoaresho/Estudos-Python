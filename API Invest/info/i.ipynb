{
 "cells": [
  {
   "cell_type": "markdown",
   "id": "83eb68f8",
   "metadata": {},
   "source": [
    "### Alpha Vantage\n",
    "\n",
    "https://www.alphavantage.co/documentation/"
   ]
  },
  {
   "cell_type": "markdown",
   "id": "46b1957f",
   "metadata": {},
   "source": [
    "#### Pegando cotações semanais - JSON"
   ]
  },
  {
   "cell_type": "code",
   "execution_count": null,
   "id": "589373bd",
   "metadata": {},
   "outputs": [],
   "source": []
  },
  {
   "cell_type": "markdown",
   "id": "31bf63d0",
   "metadata": {},
   "source": [
    "#### Pegando cotações semanais - CSV"
   ]
  },
  {
   "cell_type": "code",
   "execution_count": null,
   "id": "21d22fd4",
   "metadata": {},
   "outputs": [],
   "source": []
  },
  {
   "cell_type": "markdown",
   "id": "f64ff652",
   "metadata": {},
   "source": [
    "### Cotações"
   ]
  },
  {
   "cell_type": "code",
   "execution_count": null,
   "id": "a5cd7b99",
   "metadata": {},
   "outputs": [],
   "source": [
    "acoes = ['ITUB4', 'ABEV3', 'BBAS3']"
   ]
  },
  {
   "cell_type": "markdown",
   "id": "7ec62493",
   "metadata": {},
   "source": [
    "### Encontrar ativos"
   ]
  },
  {
   "cell_type": "code",
   "execution_count": null,
   "id": "0f9de0f0",
   "metadata": {},
   "outputs": [],
   "source": []
  },
  {
   "cell_type": "markdown",
   "id": "9beab6ae",
   "metadata": {},
   "source": [
    "### Informações de Resultado"
   ]
  },
  {
   "cell_type": "code",
   "execution_count": null,
   "id": "672d9f62",
   "metadata": {},
   "outputs": [],
   "source": []
  }
 ],
 "metadata": {
  "kernelspec": {
   "display_name": "Python 3 (ipykernel)",
   "language": "python",
   "name": "python3"
  },
  "language_info": {
   "codemirror_mode": {
    "name": "ipython",
    "version": 3
   },
   "file_extension": ".py",
   "mimetype": "text/x-python",
   "name": "python",
   "nbconvert_exporter": "python",
   "pygments_lexer": "ipython3",
   "version": "3.11.5"
  }
 },
 "nbformat": 4,
 "nbformat_minor": 5
}
