{
 "cells": [
  {
   "cell_type": "markdown",
   "id": "83eb68f8",
   "metadata": {},
   "source": [
    "### Alpha Vantage\n",
    "\n",
    "https://www.alphavantage.co/documentation/"
   ]
  },
  {
   "cell_type": "markdown",
   "id": "46b1957f",
   "metadata": {},
   "source": [
    "#### Pegando cotações semanais - JSON"
   ]
  },
  {
   "cell_type": "code",
   "execution_count": 1,
   "id": "589373bd",
   "metadata": {},
   "outputs": [
    {
     "ename": "ModuleNotFoundError",
     "evalue": "No module named 'chave'",
     "output_type": "error",
     "traceback": [
      "\u001b[1;31m---------------------------------------------------------------------------\u001b[0m",
      "\u001b[1;31mModuleNotFoundError\u001b[0m                       Traceback (most recent call last)",
      "\u001b[1;32mc:\\Users\\victo\\OneDrive\\Área de Trabalho\\Python\\Estudos-Python\\API Invest\\APIAções - Gabarito.ipynb Cell 3\u001b[0m line \u001b[0;36m1\n\u001b[1;32m----> <a href='vscode-notebook-cell:/c%3A/Users/victo/OneDrive/%C3%81rea%20de%20Trabalho/Python/Estudos-Python/API%20Invest/APIA%C3%A7%C3%B5es%20-%20Gabarito.ipynb#W2sZmlsZQ%3D%3D?line=0'>1</a>\u001b[0m \u001b[39mfrom\u001b[39;00m \u001b[39mchave\u001b[39;00m \u001b[39mimport\u001b[39;00m chave_api\n\u001b[0;32m      <a href='vscode-notebook-cell:/c%3A/Users/victo/OneDrive/%C3%81rea%20de%20Trabalho/Python/Estudos-Python/API%20Invest/APIA%C3%A7%C3%B5es%20-%20Gabarito.ipynb#W2sZmlsZQ%3D%3D?line=2'>3</a>\u001b[0m \u001b[39mimport\u001b[39;00m \u001b[39mrequests\u001b[39;00m\n\u001b[0;32m      <a href='vscode-notebook-cell:/c%3A/Users/victo/OneDrive/%C3%81rea%20de%20Trabalho/Python/Estudos-Python/API%20Invest/APIA%C3%A7%C3%B5es%20-%20Gabarito.ipynb#W2sZmlsZQ%3D%3D?line=4'>5</a>\u001b[0m \u001b[39m# replace the \"demo\" apikey below with your own key from https://www.alphavantage.co/support/#api-key\u001b[39;00m\n",
      "\u001b[1;31mModuleNotFoundError\u001b[0m: No module named 'chave'"
     ]
    }
   ],
   "source": [
    "from chave import chave_api\n",
    "\n",
    "import requests\n",
    "\n",
    "# replace the \"demo\" apikey below with your own key from https://www.alphavantage.co/support/#api-key\n",
    "url = f'https://www.alphavantage.co/query?function=TIME_SERIES_WEEKLY_ADJUSTED&symbol=ITUB4.SAO&apikey={chave_api}'\n",
    "r = requests.get(url)\n",
    "data = r.json()\n",
    "\n",
    "print(data)"
   ]
  },
  {
   "cell_type": "markdown",
   "id": "31bf63d0",
   "metadata": {},
   "source": [
    "#### Pegando cotações semanais - CSV"
   ]
  },
  {
   "cell_type": "code",
   "execution_count": null,
   "id": "21d22fd4",
   "metadata": {},
   "outputs": [],
   "source": [
    "import pandas as pd\n",
    "from io import StringIO\n",
    "\n",
    "# replace the \"demo\" apikey below with your own key from https://www.alphavantage.co/support/#api-key\n",
    "url = f'https://www.alphavantage.co/query?function=TIME_SERIES_WEEKLY_ADJUSTED&symbol=ITUB4.SAO&apikey={chave_api}&datatype=csv'\n",
    "r = requests.get(url)\n",
    "\n",
    "tabela = pd.read_csv(StringIO(r.text))\n",
    "display(tabela)"
   ]
  },
  {
   "cell_type": "markdown",
   "id": "f64ff652",
   "metadata": {},
   "source": [
    "### Cotações"
   ]
  },
  {
   "cell_type": "code",
   "execution_count": null,
   "id": "a5cd7b99",
   "metadata": {},
   "outputs": [],
   "source": [
    "acoes = ['ITUB4', 'ABEV3', 'BBAS3']\n",
    "\n",
    "compilada = pd.DataFrame()\n",
    "\n",
    "for acao in acoes:\n",
    "    url = f'https://www.alphavantage.co/query?function=GLOBAL_QUOTE&symbol={acao}.SAO&apikey={chave_api}&datatype=csv'\n",
    "    r = requests.get(url)\n",
    "    tabela = pd.read_csv(StringIO(r.text))\n",
    "    lista_tabelas = [compilada, tabela]\n",
    "    compilada = pd.concat(lista_tabelas)\n",
    "    \n",
    "display(compilada)"
   ]
  },
  {
   "cell_type": "markdown",
   "id": "7ec62493",
   "metadata": {},
   "source": [
    "### Encontrar ativos"
   ]
  },
  {
   "cell_type": "code",
   "execution_count": null,
   "id": "0f9de0f0",
   "metadata": {},
   "outputs": [],
   "source": [
    "url = f'https://www.alphavantage.co/query?function=SYMBOL_SEARCH&keywords=amazon&apikey={chave_api}&datatype=csv'\n",
    "r = requests.get(url)\n",
    "\n",
    "tabela = pd.read_csv(StringIO(r.text))\n",
    "display(tabela)"
   ]
  },
  {
   "cell_type": "markdown",
   "id": "9beab6ae",
   "metadata": {},
   "source": [
    "### Informações de Resultado"
   ]
  },
  {
   "cell_type": "code",
   "execution_count": null,
   "id": "672d9f62",
   "metadata": {},
   "outputs": [],
   "source": [
    "url = f'https://www.alphavantage.co/query?function=EARNINGS&symbol=AMZN&apikey={chave_api}'\n",
    "r = requests.get(url)\n",
    "data = r.json()\n",
    "\n",
    "print(data)"
   ]
  },
  {
   "cell_type": "code",
   "execution_count": null,
   "id": "a42a883b",
   "metadata": {},
   "outputs": [],
   "source": [
    "import pprint\n",
    "\n",
    "# pprint.pprint(data)\n",
    "\n",
    "resultado = pd.DataFrame(data['annualEarnings'])\n",
    "display(resultado)"
   ]
  },
  {
   "cell_type": "code",
   "execution_count": null,
   "id": "22a132c7",
   "metadata": {},
   "outputs": [],
   "source": []
  }
 ],
 "metadata": {
  "kernelspec": {
   "display_name": "Python 3 (ipykernel)",
   "language": "python",
   "name": "python3"
  },
  "language_info": {
   "codemirror_mode": {
    "name": "ipython",
    "version": 3
   },
   "file_extension": ".py",
   "mimetype": "text/x-python",
   "name": "python",
   "nbconvert_exporter": "python",
   "pygments_lexer": "ipython3",
   "version": "3.11.6"
  }
 },
 "nbformat": 4,
 "nbformat_minor": 5
}
